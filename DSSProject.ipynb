{
  "nbformat": 4,
  "nbformat_minor": 0,
  "metadata": {
    "colab": {
      "provenance": [],
      "authorship_tag": "ABX9TyNbf2k1uA5rVCngVN8X71Yz",
      "include_colab_link": true
    },
    "kernelspec": {
      "name": "python3",
      "display_name": "Python 3"
    },
    "language_info": {
      "name": "python"
    }
  },
  "cells": [
    {
      "cell_type": "markdown",
      "metadata": {
        "id": "view-in-github",
        "colab_type": "text"
      },
      "source": [
        "<a href=\"https://colab.research.google.com/github/owen-shaffer/DataScience-Project/blob/main/DSSProject.ipynb\" target=\"_parent\"><img src=\"https://colab.research.google.com/assets/colab-badge.svg\" alt=\"Open In Colab\"/></a>"
      ]
    },
    {
      "cell_type": "code",
      "source": [
        "! git clone https://github.com/owen-shaffer/DataScience-Project"
      ],
      "metadata": {
        "colab": {
          "base_uri": "https://localhost:8080/"
        },
        "id": "5yc5_l_Bbb7G",
        "outputId": "697126d5-7e5f-404f-ee41-48e61c44278b"
      },
      "execution_count": 2,
      "outputs": [
        {
          "output_type": "stream",
          "name": "stdout",
          "text": [
            "Cloning into 'DataScience-Project'...\n",
            "remote: Enumerating objects: 27, done.\u001b[K\n",
            "remote: Counting objects: 100% (27/27), done.\u001b[K\n",
            "remote: Compressing objects: 100% (25/25), done.\u001b[K\n",
            "remote: Total 27 (delta 7), reused 0 (delta 0), pack-reused 0 (from 0)\u001b[K\n",
            "Receiving objects: 100% (27/27), 2.39 MiB | 4.39 MiB/s, done.\n",
            "Resolving deltas: 100% (7/7), done.\n"
          ]
        }
      ]
    },
    {
      "cell_type": "code",
      "execution_count": 37,
      "metadata": {
        "id": "LF7h8jGIYIO6"
      },
      "outputs": [],
      "source": [
        "import json\n",
        "import csv\n",
        "import pandas as pd\n",
        "import sqlite3\n",
        "\n",
        "def convert_csv_to_json(csv_file, json_file):\n",
        "    with open(csv_file, 'r') as s:\n",
        "      df = pd.read_csv(s)\n",
        "      df.to_json(json_file, orient='records')\n",
        "\n",
        "convert_csv_to_json('/content/AnimalDiversityNewYork.csv', 'AnimalDiversityNewYork.json')\n",
        "\n",
        "# with open('/content/DataScience-Project/AnimalDiversityNewYork.json', 'r') as f:\n",
        "#     animal_json = json.load(f)\n",
        "#     df = pd.DataFrame(animal_json['data'])\n",
        "#     #remove first 7 columns\n",
        "#     df = df.drop(df.columns[0:8], axis=1)\n",
        "#     df.head()\n",
        "# #Conversion\n",
        "\n",
        "# choice = input(\"Want to convert your data to csv (1) or sql (2)\")\n",
        "# if choice == '1':\n",
        "#   df.to_csv('AnimalDiversityNewYork.csv')\n",
        "# if choice == '2':\n",
        "#   df.to_sql('AnimalDiversityNewYork.db', con=sqlite3.connect('AnimalDiversityNewYork.db'))\n",
        "\n",
        "\n",
        "# with open('/content/DataScience-Project/SanFranPlastic.csv', 'r') as s:\n",
        "#     df = pd.read_csv(s)\n",
        "\n",
        "# choice = input(\"Want to convert your data to json (1) or sql (2)\")\n",
        "# if choice == '1':\n",
        "#   df.to_json('SanFranPlastic.csv')\n",
        "# if choice == '2':\n",
        "#   df.to_sql('SanFranPlastic.db', con=sqlite3.connect('SanFranPlastic.db'))\n",
        "\n"
      ]
    }
  ]
}